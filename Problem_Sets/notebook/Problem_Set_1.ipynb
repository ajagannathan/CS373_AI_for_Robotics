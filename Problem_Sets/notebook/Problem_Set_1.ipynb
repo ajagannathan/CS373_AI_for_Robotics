{
 "cells": [
  {
   "cell_type": "markdown",
   "metadata": {},
   "source": [
    "# Problem Set 1"
   ]
  },
  {
   "cell_type": "markdown",
   "metadata": {},
   "source": [
    " The function localize takes the following arguments:\n",
    "\n",
    " colors:\n",
    "        2D list, each entry either 'R' (for red cell) or 'G' (for green cell)\n",
    "\n",
    " measurements:\n",
    "        list of measurements taken by the robot, each entry either 'R' or 'G'\n",
    "\n",
    " motions:\n",
    "        list of actions taken by the robot, each entry of the form [dy,dx],\n",
    "        where dx refers to the change in the x-direction (positive meaning\n",
    "        movement to the right) and dy refers to the change in the y-direction\n",
    "        (positive meaning movement downward)\n",
    "        NOTE: the *first* coordinate is change in y; the *second* coordinate is\n",
    "              change in x\n",
    "\n",
    " sensor_right:\n",
    "        float between 0 and 1, giving the probability that any given\n",
    "        measurement is correct; the probability that the measurement is\n",
    "        incorrect is 1-sensor_right\n",
    "\n",
    " p_move:\n",
    "        float between 0 and 1, giving the probability that any given movement\n",
    "        command takes place; the probability that the movement command fails\n",
    "        (and the robot remains still) is 1-p_move; the robot will NOT overshoot\n",
    "        its destination in this exercise\n",
    "\n",
    " The function should RETURN (not just show or print) a 2D list (of the same\n",
    " dimensions as colors) that gives the probabilities that the robot occupies\n",
    " each cell in the world.\n",
    "\n",
    " Compute the probabilities by assuming the robot initially has a uniform\n",
    " probability of being in any cell.\n",
    "\n",
    " Also assume that at each step, the robot:\n",
    " 1) first makes a movement,\n",
    " 2) then takes a measurement.\n",
    "\n",
    " Motion:\n",
    "  [0,0] - stay\n",
    "  [0,1] - right\n",
    "  [0,-1] - left\n",
    "  [1,0] - down\n",
    "  [-1,0] - up"
   ]
  },
  {
   "cell_type": "code",
   "execution_count": 39,
   "metadata": {},
   "outputs": [],
   "source": [
    "def sense(p, colors, data, sensor_right):\n",
    "    #TODO\n",
    "    q = [[0.0 for cols in range(len(p[0]))] for rows in range(len(p))]\n",
    "    s = 0\n",
    "    for i in range(len(p)):\n",
    "        for j in range(len(p[0])):\n",
    "            hit = (data==colors[i][j])\n",
    "            q[i][j] = p[i][j] * ((hit * sensor_right) + ((1-hit)*(1-sensor_right)))\n",
    "            s = s + q[i][j]\n",
    "    \n",
    "    \n",
    "    for i in range(len(p)):\n",
    "        for j in range(len(p[0])):\n",
    "            q[i][j] = q[i][j]/s\n",
    "            \n",
    "    return q\n",
    "    \n",
    "    \n",
    "    "
   ]
  },
  {
   "cell_type": "code",
   "execution_count": 51,
   "metadata": {},
   "outputs": [],
   "source": [
    "def move(p, m, p_move):\n",
    "    #TODO\n",
    "    q = [[0.0 for cols in range(len(p[0]))] for rows in range(len(p))]\n",
    "    \n",
    "    for i in range(len(p)):\n",
    "        for j in range(len(p[0])):\n",
    "            \n",
    "            s = p_move * p[(i - m[0]) % len(p)][(j - m[1]) % len(p[0])]\n",
    "            s = s + (1-p_move) * p[(i + m[0]-m[0]) % len(p)][(j + m[1]-m[1]) % len(p[0])]\n",
    "            q[i][j] = s\n",
    "    \n",
    "    return q\n"
   ]
  },
  {
   "cell_type": "code",
   "execution_count": 43,
   "metadata": {},
   "outputs": [],
   "source": [
    "def localize(colors,measurements,motions,sensor_right,p_move):\n",
    "    # initializes p to a uniform distribution over a grid of the same dimensions as colors\n",
    "    pinit = 1.0 / float(len(colors)) / float(len(colors[0]))\n",
    "    p = [[pinit for row in range(len(colors[0]))] for col in range(len(colors))]\n",
    "    \n",
    "    # >>> Insert your code here <<<\n",
    "    \n",
    "    for m in range(len(motions)):\n",
    "        p = move(p, motions[m], p_move)\n",
    "        p = sense(p, colors, measurements[m],sensor_right)     \n",
    "\n",
    "    return p\n"
   ]
  },
  {
   "cell_type": "code",
   "execution_count": 41,
   "metadata": {},
   "outputs": [],
   "source": [
    "def show(p):\n",
    "    rows = ['[' + ','.join(map(lambda x: '{0:.5f}'.format(x),r)) + ']' for r in p]\n",
    "    print ('[' + ',\\n '.join(rows) + ']')"
   ]
  },
  {
   "cell_type": "markdown",
   "metadata": {},
   "source": [
    " For the following test case, your output should be<br> \n",
    " [[0.01105, 0.02464, 0.06799, 0.04472, 0.02465],<br>\n",
    "  [0.00715, 0.01017, 0.08696, 0.07988, 0.00935],<br>\n",
    "  [0.00739, 0.00894, 0.11272, 0.35350, 0.04065],<br>\n",
    "  [0.00910, 0.00715, 0.01434, 0.04313, 0.03642]]<br>\n",
    " (within a tolerance of +/- 0.001 for each entry)"
   ]
  },
  {
   "cell_type": "code",
   "execution_count": 56,
   "metadata": {},
   "outputs": [
    {
     "name": "stdout",
     "output_type": "stream",
     "text": [
      "[[0.01106,0.02464,0.06800,0.04472,0.02465],\n",
      " [0.00715,0.01017,0.08697,0.07988,0.00935],\n",
      " [0.00740,0.00894,0.11273,0.35351,0.04066],\n",
      " [0.00911,0.00715,0.01435,0.04313,0.03643]]\n"
     ]
    }
   ],
   "source": [
    "#Uniform prior distribution\n",
    "colors = [['R','G','G','R','R'],\n",
    "          ['R','R','G','R','R'],\n",
    "          ['R','R','G','G','R'],\n",
    "          ['R','R','R','R','R']]\n",
    "measurements = ['G','G','G','G','G']\n",
    "motions = [[0,0],[0,1],[1,0],[1,0],[0,1]]\n",
    "sensor_right = 0.7\n",
    "p_move = 0.8\n",
    "p = localize(colors,measurements,motions,sensor_right, p_move)\n",
    "show(p) # displays your answer"
   ]
  },
  {
   "cell_type": "code",
   "execution_count": 55,
   "metadata": {},
   "outputs": [
    {
     "name": "stdout",
     "output_type": "stream",
     "text": [
      "[[0.00000,0.00000,0.00000],\n",
      " [0.00000,0.33333,0.66667],\n",
      " [0.00000,0.00000,0.00000]]\n"
     ]
    }
   ],
   "source": [
    "colors = [['G','G','G'],\n",
    "          ['G','R','R'],\n",
    "          ['G','G','G']]\n",
    "          \n",
    "measurements = ['R','R']\n",
    "motions = [[0,0],[0,1]]\n",
    "sensor_right = 1.0\n",
    "p_move = 0.5\n",
    "p = localize(colors,measurements,motions,sensor_right, p_move)\n",
    "show(p) # displays your answer"
   ]
  },
  {
   "cell_type": "code",
   "execution_count": null,
   "metadata": {},
   "outputs": [],
   "source": []
  },
  {
   "cell_type": "markdown",
   "metadata": {},
   "source": [
    "# Test code snippets"
   ]
  },
  {
   "cell_type": "code",
   "execution_count": 1,
   "metadata": {},
   "outputs": [
    {
     "output_type": "stream",
     "name": "stdout",
     "text": "0 0\n3 0\n0 0\n1 0\n1 3\n0.05\n"
    }
   ],
   "source": [
    "p = [[0.05,0.05,0.05,0.05],\n",
    "     [0.05,0.05,0.05,0.05],\n",
    "     [0.05,0.05,0.05,0.05],\n",
    "     [0.05,0.05,0.05,0.05]]\n",
    "\n",
    "p1 = [[0.051,0.052,0.053,0.054,1],\n",
    "     [0.055,0.056,0.057,0.058,2],\n",
    "     [0.059,0.06,0.061,0.062,3],\n",
    "     [0.063,0.064,0.065,0.066,4]]\n",
    "\n",
    "motions = [[0,0],[-1,0],[1,0],[1,0],[0,-1]]\n",
    "row=col=0\n",
    "for m in motions:\n",
    "    row = (row + m[0])%len(p)\n",
    "    col = (col + m[1])%len(p[0])\n",
    "    print(row,col)\n",
    "    a = p[row][col]\n",
    "print(a)"
   ]
  },
  {
   "cell_type": "code",
   "execution_count": 37,
   "metadata": {},
   "outputs": [
    {
     "data": {
      "text/plain": [
       "0.2"
      ]
     },
     "execution_count": 37,
     "metadata": {},
     "output_type": "execute_result"
    }
   ],
   "source": [
    "sum(p[0])"
   ]
  },
  {
   "cell_type": "code",
   "execution_count": 3,
   "metadata": {},
   "outputs": [],
   "source": [
    "colors = [['R','G','G','R','R'],\n",
    "          ['R','R','G','R','R'],\n",
    "          ['R','R','G','G','R'],\n",
    "          ['R','R','R','R','R']]\n",
    "\n",
    "pinit = 1.0 / float(len(colors)) / float(len(colors[0]))\n",
    "#p = [[pinit for row in range(len(colors[0]))] for col in range(len(colors))]"
   ]
  },
  {
   "cell_type": "code",
   "execution_count": 30,
   "metadata": {},
   "outputs": [
    {
     "data": {
      "text/plain": [
       "[[0.0, 0.0, 0.0, 0.0, 0.0],\n",
       " [0.0, 0.0, 0.0, 0.0, 0.0],\n",
       " [0.0, 0.0, 0.0, 0.0, 0.0],\n",
       " [0.0, 0.0, 0.0, 0.0, 0.0]]"
      ]
     },
     "execution_count": 30,
     "metadata": {},
     "output_type": "execute_result"
    }
   ],
   "source": [
    "pinit1 = 0.0\n",
    "p = [[0.0 for row in range(len(colors[0]))] for cols in range(len(colors))]\n",
    "p"
   ]
  },
  {
   "cell_type": "code",
   "execution_count": 31,
   "metadata": {},
   "outputs": [
    {
     "data": {
      "text/plain": [
       "[[0.0, 0.0, 0.0, 0.0, 0.0],\n",
       " [0.0, 0.0, 0.0, 0.0, 0.0],\n",
       " [0.0, 0.0, 0.0, 0.0, 0.0],\n",
       " [0.0, 0.0, 0.0, 0.0, 0.0]]"
      ]
     },
     "execution_count": 31,
     "metadata": {},
     "output_type": "execute_result"
    }
   ],
   "source": [
    "q=[[0.0 for row in range(len(p[0]))] for cols in range(len(p))]\n",
    "q"
   ]
  },
  {
   "cell_type": "code",
   "execution_count": null,
   "metadata": {},
   "outputs": [],
   "source": []
  }
 ],
 "metadata": {
  "kernelspec": {
   "display_name": "Python 3",
   "language": "python",
   "name": "python3"
  },
  "language_info": {
   "codemirror_mode": {
    "name": "ipython",
    "version": 3
   },
   "file_extension": ".py",
   "mimetype": "text/x-python",
   "name": "python",
   "nbconvert_exporter": "python",
   "pygments_lexer": "ipython3",
   "version": "3.7.6-final"
  }
 },
 "nbformat": 4,
 "nbformat_minor": 4
}