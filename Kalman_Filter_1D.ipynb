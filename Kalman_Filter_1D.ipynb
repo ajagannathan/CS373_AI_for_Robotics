{
 "cells": [
  {
   "cell_type": "code",
   "execution_count": 6,
   "metadata": {},
   "outputs": [],
   "source": [
    "def update(mean1, var1, mean2, var2):\n",
    "    new_mean = float(var2 * mean1 + var1 * mean2) / (var1 + var2)\n",
    "    new_var = 1./(1./var1 + 1./var2)\n",
    "    return [new_mean, new_var]\n"
   ]
  },
  {
   "cell_type": "code",
   "execution_count": 7,
   "metadata": {},
   "outputs": [],
   "source": [
    "def predict(mean1, var1, mean2, var2):\n",
    "    new_mean = mean1 + mean2\n",
    "    new_var = var1 + var2\n",
    "    return [new_mean, new_var]"
   ]
  },
  {
   "cell_type": "code",
   "execution_count": 8,
   "metadata": {},
   "outputs": [],
   "source": [
    "measurements = [5., 6., 7., 9., 10.]\n",
    "motion = [1., 1., 2., 1., 1.]\n",
    "measurement_sig = 4.\n",
    "motion_sig = 2.\n",
    "mu = 0.\n",
    "sig = 10000."
   ]
  },
  {
   "cell_type": "code",
   "execution_count": 10,
   "metadata": {},
   "outputs": [
    {
     "output_type": "stream",
     "name": "stdout",
     "text": "update :  4.998000799680128 3.9984006397441023\npredict :  5.998000799680128 5.998400639744102\nupdate :  5.999200191953932 2.399744061425258\npredict :  6.999200191953932 4.399744061425258\nupdate :  6.999619127420922 2.0951800575117594\npredict :  8.999619127420921 4.09518005751176\nupdate :  8.999811802788143 2.0235152416216957\npredict :  9.999811802788143 4.023515241621696\nupdate :  9.999906177177365 2.0058615808441944\npredict :  10.999906177177365 4.005861580844194\n"
    }
   ],
   "source": [
    "for i in range(len(measurements)): \n",
    "    mu, sig = update(mu, sig, measurements[i],measurement_sig)\n",
    "    print(\"update : \", mu, sig)\n",
    "    mu, sig = predict(mu, sig, motion[i],motion_sig)\n",
    "    print(\"predict : \", mu, sig)\n"
   ]
  },
  {
   "cell_type": "code",
   "execution_count": null,
   "metadata": {},
   "outputs": [],
   "source": []
  }
 ],
 "metadata": {
  "language_info": {
   "codemirror_mode": {
    "name": "ipython",
    "version": 3
   },
   "file_extension": ".py",
   "mimetype": "text/x-python",
   "name": "python",
   "nbconvert_exporter": "python",
   "pygments_lexer": "ipython3",
   "version": "3.7.6-final"
  },
  "orig_nbformat": 2,
  "kernelspec": {
   "name": "python3",
   "display_name": "Python 3"
  }
 },
 "nbformat": 4,
 "nbformat_minor": 2
}